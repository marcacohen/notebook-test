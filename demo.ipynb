{
 "cells": [
  {
   "cell_type": "code",
   "execution_count": 11,
   "metadata": {},
   "outputs": [],
   "source": [
    "import pandas as pd\n",
    "import tensorflow as tf\n",
    "from tensorflow.keras import Sequential\n",
    "from tensorflow.keras.layers import Dense\n",
    "\n",
    "import numpy as np\n",
    "import json\n",
    "\n",
    "from sklearn.model_selection import train_test_split\n",
    "from sklearn.utils import shuffle\n",
    "from google.cloud import bigquery\n",
    "from witwidget.notebook.visualization import WitWidget, WitConfigBuilder"
   ]
  },
  {
   "cell_type": "code",
   "execution_count": 12,
   "metadata": {},
   "outputs": [
    {
     "data": {
      "text/html": [
       "<div>\n",
       "<style scoped>\n",
       "    .dataframe tbody tr th:only-of-type {\n",
       "        vertical-align: middle;\n",
       "    }\n",
       "\n",
       "    .dataframe tbody tr th {\n",
       "        vertical-align: top;\n",
       "    }\n",
       "\n",
       "    .dataframe thead th {\n",
       "        text-align: right;\n",
       "    }\n",
       "</style>\n",
       "<table border=\"1\" class=\"dataframe\">\n",
       "  <thead>\n",
       "    <tr style=\"text-align: right;\">\n",
       "      <th></th>\n",
       "      <th>weight_pounds</th>\n",
       "      <th>is_male</th>\n",
       "      <th>mother_age</th>\n",
       "      <th>plurality</th>\n",
       "      <th>gestation_weeks</th>\n",
       "    </tr>\n",
       "  </thead>\n",
       "  <tbody>\n",
       "    <tr>\n",
       "      <th>0</th>\n",
       "      <td>6.686620</td>\n",
       "      <td>True</td>\n",
       "      <td>18</td>\n",
       "      <td>1</td>\n",
       "      <td>43.0</td>\n",
       "    </tr>\n",
       "    <tr>\n",
       "      <th>1</th>\n",
       "      <td>9.360828</td>\n",
       "      <td>True</td>\n",
       "      <td>32</td>\n",
       "      <td>1</td>\n",
       "      <td>41.0</td>\n",
       "    </tr>\n",
       "    <tr>\n",
       "      <th>2</th>\n",
       "      <td>8.437091</td>\n",
       "      <td>False</td>\n",
       "      <td>30</td>\n",
       "      <td>1</td>\n",
       "      <td>39.0</td>\n",
       "    </tr>\n",
       "    <tr>\n",
       "      <th>3</th>\n",
       "      <td>6.124442</td>\n",
       "      <td>False</td>\n",
       "      <td>24</td>\n",
       "      <td>1</td>\n",
       "      <td>40.0</td>\n",
       "    </tr>\n",
       "    <tr>\n",
       "      <th>4</th>\n",
       "      <td>7.125340</td>\n",
       "      <td>False</td>\n",
       "      <td>26</td>\n",
       "      <td>1</td>\n",
       "      <td>41.0</td>\n",
       "    </tr>\n",
       "  </tbody>\n",
       "</table>\n",
       "</div>"
      ],
      "text/plain": [
       "   weight_pounds  is_male  mother_age  plurality  gestation_weeks\n",
       "0       6.686620     True          18          1             43.0\n",
       "1       9.360828     True          32          1             41.0\n",
       "2       8.437091    False          30          1             39.0\n",
       "3       6.124442    False          24          1             40.0\n",
       "4       7.125340    False          26          1             41.0"
      ]
     },
     "execution_count": 12,
     "metadata": {},
     "output_type": "execute_result"
    }
   ],
   "source": [
    "query=\"\"\"\n",
    "SELECT\n",
    "  weight_pounds,\n",
    "  is_male,\n",
    "  mother_age,\n",
    "  plurality,\n",
    "  gestation_weeks\n",
    "FROM\n",
    "  publicdata.samples.natality\n",
    "WHERE year > 2000\n",
    "LIMIT 10000\n",
    "\"\"\"\n",
    "df = bigquery.Client().query(query).to_dataframe()\n",
    "df.head()"
   ]
  },
  {
   "cell_type": "code",
   "execution_count": 13,
   "metadata": {},
   "outputs": [],
   "source": [
    "df = df.dropna()\n",
    "df = shuffle(df, random_state=2)\n",
    "labels = df['weight_pounds']\n",
    "data = df.drop(columns=['weight_pounds'])\n",
    "data['is_male'] = data['is_male'].astype(int)"
   ]
  },
  {
   "cell_type": "code",
   "execution_count": 18,
   "metadata": {},
   "outputs": [
    {
     "name": "stdout",
     "output_type": "stream",
     "text": [
      "Train on 6670 samples, validate on 742 samples\n",
      "Epoch 1/10\n",
      "6670/6670 [==============================] - 2s 314us/sample - loss: 1.5340 - mae: 0.9503 - mse: 1.5340 - val_loss: 2.4284 - val_mae: 1.2524 - val_mse: 2.4284\n",
      "Epoch 2/10\n",
      "6670/6670 [==============================] - 1s 139us/sample - loss: 1.3508 - mae: 0.9079 - mse: 1.3508 - val_loss: 1.2707 - val_mae: 0.8707 - val_mse: 1.2707\n",
      "Epoch 3/10\n",
      "6670/6670 [==============================] - 1s 136us/sample - loss: 1.2801 - mae: 0.8862 - mse: 1.2801 - val_loss: 1.5518 - val_mae: 0.9848 - val_mse: 1.5518\n",
      "Epoch 4/10\n",
      "6670/6670 [==============================] - 1s 180us/sample - loss: 1.2325 - mae: 0.8696 - mse: 1.2325 - val_loss: 1.2411 - val_mae: 0.8572 - val_mse: 1.2411\n",
      "Epoch 5/10\n",
      "6670/6670 [==============================] - 1s 137us/sample - loss: 1.2021 - mae: 0.8590 - mse: 1.2021 - val_loss: 1.2158 - val_mae: 0.8594 - val_mse: 1.2158\n",
      "Epoch 6/10\n",
      "6670/6670 [==============================] - 1s 117us/sample - loss: 1.2093 - mae: 0.8584 - mse: 1.2093 - val_loss: 1.2931 - val_mae: 0.8882 - val_mse: 1.2931\n",
      "Epoch 7/10\n",
      "6670/6670 [==============================] - 1s 114us/sample - loss: 1.1818 - mae: 0.8506 - mse: 1.1818 - val_loss: 1.3276 - val_mae: 0.9016 - val_mse: 1.3276\n",
      "Epoch 8/10\n",
      "6670/6670 [==============================] - 1s 131us/sample - loss: 1.1792 - mae: 0.8479 - mse: 1.1792 - val_loss: 1.1483 - val_mae: 0.8321 - val_mse: 1.1483\n",
      "Epoch 9/10\n",
      "6670/6670 [==============================] - 1s 116us/sample - loss: 1.1735 - mae: 0.8466 - mse: 1.1735 - val_loss: 1.1591 - val_mae: 0.8355 - val_mse: 1.1591\n",
      "Epoch 10/10\n",
      "6670/6670 [==============================] - 1s 136us/sample - loss: 1.1686 - mae: 0.8448 - mse: 1.1686 - val_loss: 1.1754 - val_mae: 0.8437 - val_mse: 1.1754\n"
     ]
    },
    {
     "data": {
      "text/plain": [
       "<tensorflow.python.keras.callbacks.History at 0x7fbb005b9b90>"
      ]
     },
     "execution_count": 18,
     "metadata": {},
     "output_type": "execute_result"
    }
   ],
   "source": [
    "x,y = data,labels\n",
    "x_train,x_test,y_train,y_test = train_test_split(x,y)\n",
    "model = Sequential([\n",
    "    Dense(64, activation='relu', input_shape=(len(x_train.iloc[0]),)),\n",
    "    Dense(32, activation='relu'),\n",
    "    Dense(1)]\n",
    ")\n",
    "model.compile(optimizer=tf.keras.optimizers.RMSprop(),\n",
    "              loss=tf.keras.losses.MeanSquaredError(),\n",
    "              metrics=['mae', 'mse'])\n",
    "model.fit(x_train, y_train, epochs=10, validation_split=0.1)"
   ]
  },
  {
   "cell_type": "code",
   "execution_count": 19,
   "metadata": {},
   "outputs": [
    {
     "name": "stdout",
     "output_type": "stream",
     "text": [
      "Predicted val:  6.8297215\n",
      "Actual val:  6.3823824849\n",
      "\n",
      "Predicted val:  7.4590216\n",
      "Actual val:  7.1870697412\n",
      "\n",
      "Predicted val:  7.166772\n",
      "Actual val:  7.43839671988\n",
      "\n",
      "Predicted val:  7.635778\n",
      "Actual val:  6.6248909731\n",
      "\n",
      "Predicted val:  7.5835195\n",
      "Actual val:  5.5005334369\n",
      "\n",
      "Predicted val:  7.28936\n",
      "Actual val:  6.686620406459999\n",
      "\n",
      "Predicted val:  7.9009743\n",
      "Actual val:  10.306610748499999\n",
      "\n",
      "Predicted val:  7.041214\n",
      "Actual val:  4.62529825676\n",
      "\n",
      "Predicted val:  7.773774\n",
      "Actual val:  7.7382253962\n",
      "\n",
      "Predicted val:  7.805752\n",
      "Actual val:  5.6438339071999994\n",
      "\n"
     ]
    }
   ],
   "source": [
    "num_examples = 10\n",
    "predictions = model.predict(x_test[:num_examples])\n",
    "for i in range(num_examples):\n",
    "    print('Predicted val: ', predictions[i][0])\n",
    "    print('Actual val: ',y_test.iloc[i])\n",
    "    print()"
   ]
  },
  {
   "cell_type": "code",
   "execution_count": null,
   "metadata": {},
   "outputs": [],
   "source": []
  }
 ],
 "metadata": {
  "environment": {
   "name": "tf2-gpu.2-1.m58",
   "type": "gcloud",
   "uri": "gcr.io/deeplearning-platform-release/tf2-gpu.2-1:m58"
  },
  "kernelspec": {
   "display_name": "Python 3",
   "language": "python",
   "name": "python3"
  },
  "language_info": {
   "codemirror_mode": {
    "name": "ipython",
    "version": 3
   },
   "file_extension": ".py",
   "mimetype": "text/x-python",
   "name": "python",
   "nbconvert_exporter": "python",
   "pygments_lexer": "ipython3",
   "version": "3.7.8"
  }
 },
 "nbformat": 4,
 "nbformat_minor": 4
}
