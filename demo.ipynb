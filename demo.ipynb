{
 "cells": [
  {
   "cell_type": "code",
   "execution_count": 26,
   "metadata": {
    "collapsed": true,
    "jupyter": {
     "outputs_hidden": true
    }
   },
   "outputs": [],
   "source": [
    "import pandas as pd\n",
    "import tensorflow as tf\n",
    "from tensorflow.keras import Sequential\n",
    "from tensorflow.keras.layers import Dense\n",
    "\n",
    "import numpy as np\n",
    "import json\n",
    "\n",
    "from sklearn.model_selection import train_test_split\n",
    "from sklearn.utils import shuffle\n",
    "from google.cloud import bigquery\n",
    "from witwidget.notebook.visualization import WitWidget, WitConfigBuilder"
   ]
  },
  {
   "cell_type": "code",
   "execution_count": 28,
   "metadata": {
    "collapsed": true,
    "jupyter": {
     "outputs_hidden": true
    }
   },
   "outputs": [
    {
     "data": {
      "text/html": [
       "<div>\n",
       "<style scoped>\n",
       "    .dataframe tbody tr th:only-of-type {\n",
       "        vertical-align: middle;\n",
       "    }\n",
       "\n",
       "    .dataframe tbody tr th {\n",
       "        vertical-align: top;\n",
       "    }\n",
       "\n",
       "    .dataframe thead th {\n",
       "        text-align: right;\n",
       "    }\n",
       "</style>\n",
       "<table border=\"1\" class=\"dataframe\">\n",
       "  <thead>\n",
       "    <tr style=\"text-align: right;\">\n",
       "      <th></th>\n",
       "      <th>weight_pounds</th>\n",
       "      <th>is_male</th>\n",
       "      <th>mother_age</th>\n",
       "      <th>plurality</th>\n",
       "      <th>gestation_weeks</th>\n",
       "    </tr>\n",
       "  </thead>\n",
       "  <tbody>\n",
       "    <tr>\n",
       "      <th>0</th>\n",
       "      <td>6.686620</td>\n",
       "      <td>True</td>\n",
       "      <td>18</td>\n",
       "      <td>1</td>\n",
       "      <td>43.0</td>\n",
       "    </tr>\n",
       "    <tr>\n",
       "      <th>1</th>\n",
       "      <td>9.360828</td>\n",
       "      <td>True</td>\n",
       "      <td>32</td>\n",
       "      <td>1</td>\n",
       "      <td>41.0</td>\n",
       "    </tr>\n",
       "    <tr>\n",
       "      <th>2</th>\n",
       "      <td>8.437091</td>\n",
       "      <td>False</td>\n",
       "      <td>30</td>\n",
       "      <td>1</td>\n",
       "      <td>39.0</td>\n",
       "    </tr>\n",
       "    <tr>\n",
       "      <th>3</th>\n",
       "      <td>6.124442</td>\n",
       "      <td>False</td>\n",
       "      <td>24</td>\n",
       "      <td>1</td>\n",
       "      <td>40.0</td>\n",
       "    </tr>\n",
       "    <tr>\n",
       "      <th>4</th>\n",
       "      <td>7.125340</td>\n",
       "      <td>False</td>\n",
       "      <td>26</td>\n",
       "      <td>1</td>\n",
       "      <td>41.0</td>\n",
       "    </tr>\n",
       "  </tbody>\n",
       "</table>\n",
       "</div>"
      ],
      "text/plain": [
       "   weight_pounds  is_male  mother_age  plurality  gestation_weeks\n",
       "0       6.686620     True          18          1             43.0\n",
       "1       9.360828     True          32          1             41.0\n",
       "2       8.437091    False          30          1             39.0\n",
       "3       6.124442    False          24          1             40.0\n",
       "4       7.125340    False          26          1             41.0"
      ]
     },
     "execution_count": 28,
     "metadata": {},
     "output_type": "execute_result"
    }
   ],
   "source": [
    "query = \"\"\"\n",
    "SELECT\n",
    "  weight_pounds,\n",
    "  is_male,\n",
    "  mother_age,\n",
    "  plurality,\n",
    "  gestation_weeks\n",
    "FROM\n",
    "  publicdata.samples.natality\n",
    "WHERE year > 2000\n",
    "LIMIT 10000\n",
    "\"\"\"\n",
    "df = bigquery.Client().query(query).to_dataframe()\n",
    "df.head()"
   ]
  },
  {
   "cell_type": "code",
   "execution_count": 29,
   "metadata": {
    "collapsed": true,
    "jupyter": {
     "outputs_hidden": true
    }
   },
   "outputs": [],
   "source": [
    "df = df.dropna()\n",
    "df = shuffle(df, random_state=2)\n",
    "labels = df['weight_pounds']\n",
    "data = df.drop(columns=['weight_pounds'])\n",
    "data['is_male'] = data['is_male'].astype(int)"
   ]
  },
  {
   "cell_type": "code",
   "execution_count": 30,
   "metadata": {
    "collapsed": true,
    "jupyter": {
     "outputs_hidden": true
    }
   },
   "outputs": [
    {
     "name": "stdout",
     "output_type": "stream",
     "text": [
      "Train on 6670 samples, validate on 742 samples\n",
      "Epoch 1/10\n",
      "6670/6670 [==============================] - 2s 304us/sample - loss: 1.7531 - mae: 1.0002 - mse: 1.7531 - val_loss: 1.2598 - val_mae: 0.8782 - val_mse: 1.2598\n",
      "Epoch 2/10\n",
      "6670/6670 [==============================] - 1s 155us/sample - loss: 1.3741 - mae: 0.9203 - mse: 1.3741 - val_loss: 1.2605 - val_mae: 0.8915 - val_mse: 1.2605\n",
      "Epoch 3/10\n",
      "6670/6670 [==============================] - 1s 158us/sample - loss: 1.3428 - mae: 0.9104 - mse: 1.3428 - val_loss: 1.2146 - val_mae: 0.8730 - val_mse: 1.2146\n",
      "Epoch 4/10\n",
      "6670/6670 [==============================] - 1s 148us/sample - loss: 1.2847 - mae: 0.8858 - mse: 1.2847 - val_loss: 1.1022 - val_mae: 0.8220 - val_mse: 1.1022\n",
      "Epoch 5/10\n",
      "6670/6670 [==============================] - 1s 151us/sample - loss: 1.2857 - mae: 0.8900 - mse: 1.2857 - val_loss: 1.0852 - val_mae: 0.8227 - val_mse: 1.0852\n",
      "Epoch 6/10\n",
      "6670/6670 [==============================] - 1s 168us/sample - loss: 1.2640 - mae: 0.8867 - mse: 1.2640 - val_loss: 1.3619 - val_mae: 0.9182 - val_mse: 1.3619\n",
      "Epoch 7/10\n",
      "6670/6670 [==============================] - 1s 135us/sample - loss: 1.2459 - mae: 0.8727 - mse: 1.2459 - val_loss: 1.3040 - val_mae: 0.9136 - val_mse: 1.3040\n",
      "Epoch 8/10\n",
      "6670/6670 [==============================] - 1s 164us/sample - loss: 1.2294 - mae: 0.8678 - mse: 1.2294 - val_loss: 1.0418 - val_mae: 0.8046 - val_mse: 1.0418\n",
      "Epoch 9/10\n",
      "6670/6670 [==============================] - 1s 173us/sample - loss: 1.2166 - mae: 0.8652 - mse: 1.2166 - val_loss: 1.0315 - val_mae: 0.7975 - val_mse: 1.0315\n",
      "Epoch 10/10\n",
      "6670/6670 [==============================] - 1s 146us/sample - loss: 1.1969 - mae: 0.8572 - mse: 1.1969 - val_loss: 1.0646 - val_mae: 0.8154 - val_mse: 1.0646\n"
     ]
    },
    {
     "data": {
      "text/plain": [
       "<tensorflow.python.keras.callbacks.History at 0x7fbaf415d190>"
      ]
     },
     "execution_count": 30,
     "metadata": {},
     "output_type": "execute_result"
    }
   ],
   "source": [
    "x,y = data,labels\n",
    "x_train,x_test,y_train,y_test = train_test_split(x,y)\n",
    "model = Sequential([\n",
    "    Dense(64, activation='relu', input_shape=(len(x_train.iloc[0]),)),\n",
    "    Dense(32, activation='relu'),\n",
    "    Dense(1)]\n",
    ")\n",
    "model.compile(optimizer=tf.keras.optimizers.RMSprop(),\n",
    "              loss=tf.keras.losses.MeanSquaredError(),\n",
    "              metrics=['mae', 'mse'])\n",
    "model.fit(x_train, y_train, epochs=10, validation_split=0.1)"
   ]
  },
  {
   "cell_type": "code",
   "execution_count": 31,
   "metadata": {
    "collapsed": true,
    "jupyter": {
     "outputs_hidden": true
    }
   },
   "outputs": [
    {
     "name": "stdout",
     "output_type": "stream",
     "text": [
      "Predicted val:  7.5485644\n",
      "Actual val:  6.1398739967\n",
      "\n",
      "Predicted val:  7.57099\n",
      "Actual val:  5.6879263596\n",
      "\n",
      "Predicted val:  8.126885\n",
      "Actual val:  8.56275425608\n",
      "\n",
      "Predicted val:  7.7047215\n",
      "Actual val:  7.0988848364\n",
      "\n",
      "Predicted val:  7.013243\n",
      "Actual val:  6.66236955764\n",
      "\n",
      "Predicted val:  7.4798093\n",
      "Actual val:  7.054792384\n",
      "\n",
      "Predicted val:  7.561883\n",
      "Actual val:  8.68841774542\n",
      "\n",
      "Predicted val:  6.583984\n",
      "Actual val:  6.05609833714\n",
      "\n",
      "Predicted val:  7.9347053\n",
      "Actual val:  5.8642961692\n",
      "\n",
      "Predicted val:  7.8661213\n",
      "Actual val:  7.936641432\n",
      "\n"
     ]
    }
   ],
   "source": [
    "'''\n",
    "num_examples = 10\n",
    "predictions = model.predict(x_test[:num_examples])\n",
    "for i in range(num_examples):\n",
    "    print('Predicted val: ', predictions[i][0])\n",
    "    print('Actual val: ',y_test.iloc[i])\n",
    "    print()\n",
    "'''"
   ]
  },
  {
   "cell_type": "code",
   "execution_count": null,
   "metadata": {
    "collapsed": true,
    "jupyter": {
     "outputs_hidden": true
    }
   },
   "outputs": [],
   "source": []
  }
 ],
 "metadata": {
  "environment": {
   "name": "tf2-gpu.2-1.m58",
   "type": "gcloud",
   "uri": "gcr.io/deeplearning-platform-release/tf2-gpu.2-1:m58"
  },
  "kernelspec": {
   "display_name": "Python 3",
   "language": "python",
   "name": "python3"
  },
  "language_info": {
   "codemirror_mode": {
    "name": "ipython",
    "version": 3
   },
   "file_extension": ".py",
   "mimetype": "text/x-python",
   "name": "python",
   "nbconvert_exporter": "python",
   "pygments_lexer": "ipython3",
   "version": "3.7.8"
  }
 },
 "nbformat": 4,
 "nbformat_minor": 4
}
