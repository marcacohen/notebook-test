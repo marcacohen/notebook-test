{
 "cells": [
  {
   "cell_type": "code",
   "execution_count": 5,
   "metadata": {},
   "outputs": [],
   "source": [
    "import pandas as pd\n",
    "import tensorflow as tf\n",
    "from tensorflow.keras import Sequential\n",
    "from tensorflow.keras.layers import Dense\n",
    "\n",
    "import numpy as np\n",
    "import json\n",
    "\n",
    "from sklearn.model_selection import train_test_split\n",
    "from sklearn.utils import shuffle\n",
    "from google.cloud import bigquery\n",
    "from witwidget.notebook.visualization import WitWidget, WitConfigBuilder"
   ]
  },
  {
   "cell_type": "code",
   "execution_count": 6,
   "metadata": {},
   "outputs": [
    {
     "data": {
      "text/html": [
       "<div>\n",
       "<style scoped>\n",
       "    .dataframe tbody tr th:only-of-type {\n",
       "        vertical-align: middle;\n",
       "    }\n",
       "\n",
       "    .dataframe tbody tr th {\n",
       "        vertical-align: top;\n",
       "    }\n",
       "\n",
       "    .dataframe thead th {\n",
       "        text-align: right;\n",
       "    }\n",
       "</style>\n",
       "<table border=\"1\" class=\"dataframe\">\n",
       "  <thead>\n",
       "    <tr style=\"text-align: right;\">\n",
       "      <th></th>\n",
       "      <th>weight_pounds</th>\n",
       "      <th>is_male</th>\n",
       "      <th>mother_age</th>\n",
       "      <th>plurality</th>\n",
       "      <th>gestation_weeks</th>\n",
       "    </tr>\n",
       "  </thead>\n",
       "  <tbody>\n",
       "    <tr>\n",
       "      <th>0</th>\n",
       "      <td>6.686620</td>\n",
       "      <td>True</td>\n",
       "      <td>18</td>\n",
       "      <td>1</td>\n",
       "      <td>43.0</td>\n",
       "    </tr>\n",
       "    <tr>\n",
       "      <th>1</th>\n",
       "      <td>9.360828</td>\n",
       "      <td>True</td>\n",
       "      <td>32</td>\n",
       "      <td>1</td>\n",
       "      <td>41.0</td>\n",
       "    </tr>\n",
       "    <tr>\n",
       "      <th>2</th>\n",
       "      <td>8.437091</td>\n",
       "      <td>False</td>\n",
       "      <td>30</td>\n",
       "      <td>1</td>\n",
       "      <td>39.0</td>\n",
       "    </tr>\n",
       "    <tr>\n",
       "      <th>3</th>\n",
       "      <td>6.124442</td>\n",
       "      <td>False</td>\n",
       "      <td>24</td>\n",
       "      <td>1</td>\n",
       "      <td>40.0</td>\n",
       "    </tr>\n",
       "    <tr>\n",
       "      <th>4</th>\n",
       "      <td>7.125340</td>\n",
       "      <td>False</td>\n",
       "      <td>26</td>\n",
       "      <td>1</td>\n",
       "      <td>41.0</td>\n",
       "    </tr>\n",
       "  </tbody>\n",
       "</table>\n",
       "</div>"
      ],
      "text/plain": [
       "   weight_pounds  is_male  mother_age  plurality  gestation_weeks\n",
       "0       6.686620     True          18          1             43.0\n",
       "1       9.360828     True          32          1             41.0\n",
       "2       8.437091    False          30          1             39.0\n",
       "3       6.124442    False          24          1             40.0\n",
       "4       7.125340    False          26          1             41.0"
      ]
     },
     "execution_count": 6,
     "metadata": {},
     "output_type": "execute_result"
    }
   ],
   "source": [
    "query=\"\"\"\n",
    "SELECT\n",
    "  weight_pounds,\n",
    "  is_male,\n",
    "  mother_age,\n",
    "  plurality,\n",
    "  gestation_weeks\n",
    "FROM\n",
    "  publicdata.samples.natality\n",
    "WHERE year > 2000\n",
    "LIMIT 10000\n",
    "\"\"\"\n",
    "df = bigquery.Client().query(query).to_dataframe()\n",
    "df.head()"
   ]
  },
  {
   "cell_type": "code",
   "execution_count": 7,
   "metadata": {},
   "outputs": [],
   "source": [
    "df = df.dropna()\n",
    "df = shuffle(df, random_state=2)"
   ]
  },
  {
   "cell_type": "code",
   "execution_count": 8,
   "metadata": {},
   "outputs": [],
   "source": [
    "labels = df['weight_pounds']\n",
    "data = df.drop(columns=['weight_pounds'])\n",
    "data['is_male'] = data['is_male'].astype(int)"
   ]
  },
  {
   "cell_type": "code",
   "execution_count": 9,
   "metadata": {},
   "outputs": [
    {
     "name": "stdout",
     "output_type": "stream",
     "text": [
      "ssh-rsa AAAAB3NzaC1yc2EAAAADAQABAAACAQCfEb/yBpcgRyqawD06aVDtk23ALAVbsL2obqgNdqSGCZMXYypmkekxjEoY1jUmzC8T9MaHVVaIaYM1mH5dNJhxxtgklsX2lmaaOXO6/uzuNG9gTC1Jl5AClRutdCmD+k1mDB7+OCVGDtCm5oI/LJBraEWUSh0mUUez4Z+AP5zWM/LZEpHdOxIDkCek/dSaGlfDVVooGPrMldn2KAStgJZSKHIUj0gF5VjyZsRLwjgTJSTg2LwtmHCUYpjuQfW+zBvaUhXYJSXtMj8n/l0Ci57E1r5egqiIlw2Bk7jCBz5Wngapqv+sSfRguM6C7IxtjagXS9GvB6kkBXUTt82Lcifmtx8u2yoE7SLG2rV0tkA3cdL85IPn0nszfd7fx3aKCgzmPKKfh5emWcxlyiNI6lrZtVBGoODCQeI/sQjV1BT/ndhGEGfiIeg/2tTHE3862v0mb1T1eZ9SqoK+ob0zV+yJhKrCL2YfGe0/NmfPen38DJTY+VTFQ+GDr9MDjIbGvDU6Khu/02VAeNlnjyXIeEeWREo/rTZMHxXEcAXeS31fsfFdNhjTanJERxbBx12xd2R37HhpMpto9EtrYxzEkzBXGA9WIMeteF02ZLOS5W/9Q5PsUyxuwjwAE6Qtj0N0u+MkkRd3ZPDCN7rwJy54a5CRLKO3FUxh/3QRk7ruPDcZeQ== marcacohen@gmail.com\n"
     ]
    }
   ],
   "source": [
    "cat ~/.ssh/id_rsa.pub"
   ]
  },
  {
   "cell_type": "code",
   "execution_count": null,
   "metadata": {},
   "outputs": [],
   "source": []
  }
 ],
 "metadata": {
  "environment": {
   "name": "tf2-gpu.2-1.m58",
   "type": "gcloud",
   "uri": "gcr.io/deeplearning-platform-release/tf2-gpu.2-1:m58"
  },
  "kernelspec": {
   "display_name": "Python 3",
   "language": "python",
   "name": "python3"
  },
  "language_info": {
   "codemirror_mode": {
    "name": "ipython",
    "version": 3
   },
   "file_extension": ".py",
   "mimetype": "text/x-python",
   "name": "python",
   "nbconvert_exporter": "python",
   "pygments_lexer": "ipython3",
   "version": "3.7.8"
  }
 },
 "nbformat": 4,
 "nbformat_minor": 4
}
